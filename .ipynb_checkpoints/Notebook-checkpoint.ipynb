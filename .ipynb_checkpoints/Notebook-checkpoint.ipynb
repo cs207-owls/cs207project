{
 "cells": [
  {
   "cell_type": "markdown",
   "metadata": {},
   "source": [
    "## Create .gitignore file"
   ]
  },
  {
   "cell_type": "code",
   "execution_count": null,
   "metadata": {
    "collapsed": false
   },
   "outputs": [],
   "source": [
    "%%file .gitignore\n",
    "\n",
    "/temp\n",
    "\n",
    "Notebook.ipynb"
   ]
  },
  {
   "cell_type": "markdown",
   "metadata": {},
   "source": [
    "## Create TimeSeries Class"
   ]
  },
  {
   "cell_type": "code",
   "execution_count": 2,
   "metadata": {
    "collapsed": false
   },
   "outputs": [
    {
     "name": "stdout",
     "output_type": "stream",
     "text": [
      "Overwriting timeseries.py\n"
     ]
    }
   ],
   "source": [
    "%%file timeseries.py\n",
    "import reprlib\n",
    "import numpy as np\n",
    "\n",
    "class TimeSeries():\n",
    "    \n",
    "    '''\n",
    "    Class object for storing and manipulating time series data.\n",
    "    \n",
    "    Parameters:\n",
    "    -----------\n",
    "        - times: a list of time indexes\n",
    "        - values: an list of corresponding values \n",
    "        \n",
    "    Methods:\n",
    "    --------\n",
    "        - times: returns a sequence of the times\n",
    "        - values: returns a sequence of the values\n",
    "        - items: returns a sequence of time, value tuples\n",
    "        - interpolate: returns a TimeSeries object \n",
    "\n",
    "    '''\n",
    "    \n",
    "    def __init__(self, times=[], values=[]):\n",
    "        \n",
    "        if not(times == []) and values == []:\n",
    "            values = np.zeros(len(times))\n",
    "            \n",
    "        assert len(times) == len(values), \"Sequence of times does not match sequences of values.\"\n",
    "        \n",
    "        self._times = np.array(times)\n",
    "        self._values = np.array(values)\n",
    "        \n",
    "    def __len__(self):\n",
    "        \"\"\"\n",
    "        Returns the length of time series object\n",
    "        \"\"\"\n",
    "        return len(self._times)\n",
    "    \n",
    "    def __getitem__(self, time):\n",
    "        \"\"\"\n",
    "        Returns the corresponding value for a given time within the time series\n",
    "        \"\"\"       \n",
    "        index = np.where(self._times==time)[0]\n",
    "        \n",
    "        if len(index) == 0:\n",
    "            raise ValueError('Time ({}) not in TimeSeries'.format(time))\n",
    "        \n",
    "        return self._values[index[0]]\n",
    "    \n",
    "    def __setitem__(self, time, value):\n",
    "        \"\"\"\n",
    "        Sets the value of a given time if the time is present with in the time series\n",
    "        \"\"\"\n",
    "        index = np.where(self._times==time)[0]\n",
    "        \n",
    "        if len(index) == 0:\n",
    "            raise ValueError('Time ({}) not in TimeSeries'.format(time))\n",
    "        \n",
    "        self._values[index] = value\n",
    "        \n",
    "        \n",
    "    def __str__(self):\n",
    "        \"\"\"\n",
    "        Returns a printable representation of the timeseries object\n",
    "\n",
    "        If the length of the timeseries is greater than five we abreviate the values in between \n",
    "        the first and last values. \n",
    "        \n",
    "        \n",
    "        \"\"\"\n",
    "        \n",
    "        name = type(self).__name__\n",
    "        \n",
    "        if len(self) <= 5:\n",
    "            all_samples = [(t, v) for t, v in zip(self._times,self._values)]\n",
    "            return \"{} {} ({} Samples)\".format(name, all_samples, len(self))\n",
    "        else:\n",
    "            first_sample = (self._times[0],self._values[0])\n",
    "            last_sample = (self._times[-1], self._values[-1])\n",
    "            return \"{} [{}...{}] ({} Samples)\".format(name, first_sample, last_sample, len(self))\n",
    "        \n",
    "    def __repr__(self):\n",
    "        \"\"\"\n",
    "        Returns a representation of the timeseries object\n",
    "        \n",
    "        If the length of the timeseries is greater than five we abreviate the values in between \n",
    "        the first and last values. \n",
    "        \"\"\"\n",
    "        \n",
    "        name = type(self).__name__\n",
    "        \n",
    "        if len(self) <= 5:\n",
    "            all_samples = [(t, v) for t, v in zip(self._times,self._values)]\n",
    "            return \"{}({})\".format(name, all_samples, len(self))\n",
    "        else:\n",
    "            first_sample = (self._times[0],self._values[0])\n",
    "            last_sample = (self._times[-1], self._values[-1])\n",
    "            return \"{}({}...{})\".format(name, first_sample, last_sample, len(self))\n",
    "        \n",
    "    def __contains__(self, time):\n",
    "        return (time in self._times)\n",
    "    \n",
    "    def __iter__(self):\n",
    "        for value in self._values:\n",
    "            yield value\n",
    "            \n",
    "    def __eq__(self, ts):\n",
    "        return self.items == ts.items\n",
    "            \n",
    "    @property\n",
    "    def times(self):\n",
    "        \"\"\"\n",
    "        Returns a sequence of the times within time series object\n",
    "        \"\"\"\n",
    "        return self._times\n",
    "    \n",
    "    @property\n",
    "    def values(self): \n",
    "        \"\"\"\n",
    "        Returns a sequence of the values within time series object\n",
    "        \"\"\"\n",
    "        return self._values\n",
    "    \n",
    "    @property\n",
    "    def items(self):\n",
    "        \"\"\"\n",
    "        Returns a sequence of time, value tuples within time series object\n",
    "        \"\"\"\n",
    "        return [(t,v) for t,v in zip(self._times,self._values)]\n",
    "    \n",
    "    def interpolate(self, times):\n",
    "        \"\"\"\n",
    "        Takes a sequence of times and returns a new time series object with \n",
    "        values that are generated from the values within the current time series object\n",
    "        \"\"\"\n",
    "        values = []\n",
    "        \n",
    "        for time in times:\n",
    "            \n",
    "            right_index = np.searchsorted(self._times, time, side='right')\n",
    "            \n",
    "            if right_index == len(self):\n",
    "                values.append(self._values[-1])\n",
    "                continue\n",
    "            \n",
    "            if right_index == 0:\n",
    "                values.append(self._values[0])\n",
    "                continue\n",
    "                    \n",
    "            left_index = right_index - 1\n",
    "            \n",
    "            \n",
    "            left_time = self._times[left_index]\n",
    "            right_time = self._times[right_index]\n",
    "            \n",
    "            left_val = self._values[left_index]\n",
    "            right_val = self._values[right_index]\n",
    "            \n",
    "            time_delta = float(right_time - left_time)            \n",
    "            val_delta = float(right_val - left_val)\n",
    "            slope = time_delta / val_delta\n",
    "            step = (time - left_time) / slope\n",
    "            \n",
    "            values.append(left_val+step)\n",
    "            \n",
    "        return TimeSeries(times, values)\n",
    "    \n",
    "    @property \n",
    "    def lazy(self):\n",
    "        \"\"\"\n",
    "        Return a new LazyOperation instance using an identity function and \n",
    "        self as the only argument. This wraps up the TimeSeries instance \n",
    "        and a function which does nothing and saves them both for later.\n",
    "        \"\"\" \n",
    "        def func(self):\n",
    "            return self\n",
    "        \n",
    "        return LazyOperation(func, self)\n"
   ]
  },
  {
   "cell_type": "code",
   "execution_count": 5,
   "metadata": {
    "collapsed": false
   },
   "outputs": [
    {
     "name": "stderr",
     "output_type": "stream",
     "text": [
      "/home/ubuntu/anaconda3/lib/python3.5/site-packages/ipykernel/__main__.py:26: DeprecationWarning: elementwise == comparison failed; this will raise an error in the future.\n"
     ]
    }
   ],
   "source": [
    "a = TimeSeries([0,5,10], [1,2,3])\n",
    "b = TimeSeries([2.5,7.5], [100, -100])\n",
    "# Simple cases\n",
    "assert a.interpolate([1]) == TimeSeries([1],[1.2])\n",
    "assert a.interpolate(b.times()) == TimeSeries([2.5,7.5], [1.5, 2.5])\n",
    "# Boundary conditions\n",
    "assert a.interpolate([-100,100]) == TimeSeries([-100,100],[1,3])"
   ]
  },
  {
   "cell_type": "markdown",
   "metadata": {},
   "source": [
    "## Create Smoke Test"
   ]
  },
  {
   "cell_type": "code",
   "execution_count": null,
   "metadata": {
    "collapsed": false
   },
   "outputs": [],
   "source": [
    "%%file smoketest.py\n",
    "\n",
    "from timeseries import TimeSeries\n",
    "\n",
    "threes = TimeSeries(range(0,1000,3))\n",
    "fives = TimeSeries(range(0,1000,5))\n",
    "\n",
    "s = 0\n",
    "for i in range(0,1000):\n",
    "  if i in threes or i in fives:\n",
    "    s += i\n",
    "\n",
    "print(\"sum\",s)"
   ]
  },
  {
   "cell_type": "markdown",
   "metadata": {},
   "source": [
    "## Create Lazy Operations"
   ]
  },
  {
   "cell_type": "code",
   "execution_count": null,
   "metadata": {
    "collapsed": false
   },
   "outputs": [],
   "source": [
    "%%file lazy.py\n",
    "\n",
    "class LazyOperation:\n",
    "    \n",
    "    def __init__(self, func, *args, **kwargs):\n",
    "        self.__func = func\n",
    "        self.__args = args\n",
    "        self.__kwargs = kwargs\n",
    "        \n",
    "    def eval(self):\n",
    "        \"\"\"\n",
    "        Recursively evaluate LazyOperation object\n",
    "        \"\"\"\n",
    "        arg_list = list(self.__args)\n",
    "        for i, arg in enumerate(self.__args):\n",
    "            if isinstance(arg, LazyOperation): \n",
    "                arg_list[i] = arg.eval()\n",
    "        \n",
    "        self.__args = tuple(arg_list)\n",
    "                \n",
    "        for key in self.__kwargs:\n",
    "            if isinstance(self.__kwarg[key], LazyOperation):\n",
    "                self.__kwarg[key] = self.__kwarg[key].eval()\n",
    "                \n",
    "        return self.__func(*self.__args, **self.__kwargs)"
   ]
  },
  {
   "cell_type": "code",
   "execution_count": 2,
   "metadata": {
    "collapsed": false
   },
   "outputs": [],
   "source": [
    "#%%file lazy_test.py\n",
    "from timeseries import *\n",
    "from lazy import *\n",
    "\n",
    "def lazy(func):\n",
    "    def inner(*args, **kwargs):\n",
    "        return LazyOperation(func, *args,**kwargs)   \n",
    "    return inner\n",
    "\n",
    "@lazy\n",
    "def lazy_add(a,b):\n",
    "    return a+b\n",
    "\n",
    "@lazy\n",
    "def lazy_mul(a,b):\n",
    "    return a*b\n",
    "\n",
    "@lazy\n",
    "def check_length(a,b):\n",
    "  return len(a)==len(b)\n",
    "\n",
    "thunk = lazy_mul( lazy_add(1,2), 4)\n",
    "assert thunk.eval()==12\n",
    "\n",
    "thunk = check_length(TimeSeries(range(0,4),range(1,5)), TimeSeries(range(1,5),range(2,6)))\n",
    "assert thunk.eval()==True"
   ]
  },
  {
   "cell_type": "code",
   "execution_count": null,
   "metadata": {
    "collapsed": true
   },
   "outputs": [],
   "source": []
  }
 ],
 "metadata": {
  "kernelspec": {
   "display_name": "Python 3",
   "language": "python",
   "name": "python3"
  },
  "language_info": {
   "codemirror_mode": {
    "name": "ipython",
    "version": 3
   },
   "file_extension": ".py",
   "mimetype": "text/x-python",
   "name": "python",
   "nbconvert_exporter": "python",
   "pygments_lexer": "ipython3",
   "version": "3.5.1"
  }
 },
 "nbformat": 4,
 "nbformat_minor": 0
}
